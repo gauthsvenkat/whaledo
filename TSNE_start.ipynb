{
 "cells": [
  {
   "cell_type": "markdown",
   "id": "7079d7e8",
   "metadata": {},
   "source": [
    "# TSNE"
   ]
  },
  {
   "cell_type": "code",
   "execution_count": 1,
   "id": "5b282be4",
   "metadata": {},
   "outputs": [],
   "source": [
    "import numpy as np\n",
    "import pandas as pd\n",
    "import cv2\n",
    "import torch\n",
    "from sklearn import preprocessing\n",
    "import torchvision.models as models\n",
    "#from torchsummary import summary\n",
    "import torch.nn as nn\n",
    "from src.models import WhaleDoModel\n",
    "from sklearn.model_selection import StratifiedKFold, train_test_split\n",
    "from src.utils import *\n",
    "from torchvision import transforms\n",
    "import matplotlib.pyplot as plt\n",
    "import cv2\n",
    "import torch\n",
    "#import imutils\n",
    "import tensorflow as tf\n",
    "from src.dataloader import WhaleDoDataset\n",
    "import pickle as pkl\n",
    "from pytorch_metric_learning import losses, miners\n",
    "from torch.utils.data import DataLoader\n",
    "from src.config import get_config\n",
    "from tqdm import tqdm"
   ]
  },
  {
   "cell_type": "markdown",
   "id": "5249f9c2",
   "metadata": {},
   "source": [
    "## Get train_df"
   ]
  },
  {
   "cell_type": "code",
   "execution_count": 2,
   "id": "27bc7583",
   "metadata": {},
   "outputs": [
    {
     "data": {
      "text/html": [
       "<div>\n",
       "<style scoped>\n",
       "    .dataframe tbody tr th:only-of-type {\n",
       "        vertical-align: middle;\n",
       "    }\n",
       "\n",
       "    .dataframe tbody tr th {\n",
       "        vertical-align: top;\n",
       "    }\n",
       "\n",
       "    .dataframe thead th {\n",
       "        text-align: right;\n",
       "    }\n",
       "</style>\n",
       "<table border=\"1\" class=\"dataframe\">\n",
       "  <thead>\n",
       "    <tr style=\"text-align: right;\">\n",
       "      <th></th>\n",
       "      <th>image_id</th>\n",
       "      <th>path</th>\n",
       "      <th>height</th>\n",
       "      <th>width</th>\n",
       "      <th>viewpoint</th>\n",
       "      <th>date</th>\n",
       "      <th>whale_id</th>\n",
       "    </tr>\n",
       "  </thead>\n",
       "  <tbody>\n",
       "    <tr>\n",
       "      <th>0</th>\n",
       "      <td>train0000</td>\n",
       "      <td>data/images/train0000.jpg</td>\n",
       "      <td>463</td>\n",
       "      <td>150</td>\n",
       "      <td>0</td>\n",
       "      <td>2017-08-07</td>\n",
       "      <td>0</td>\n",
       "    </tr>\n",
       "    <tr>\n",
       "      <th>1</th>\n",
       "      <td>train0001</td>\n",
       "      <td>data/images/train0001.jpg</td>\n",
       "      <td>192</td>\n",
       "      <td>81</td>\n",
       "      <td>0</td>\n",
       "      <td>2019-08-05</td>\n",
       "      <td>1</td>\n",
       "    </tr>\n",
       "    <tr>\n",
       "      <th>2</th>\n",
       "      <td>train0002</td>\n",
       "      <td>data/images/train0002.jpg</td>\n",
       "      <td>625</td>\n",
       "      <td>183</td>\n",
       "      <td>0</td>\n",
       "      <td>2017-08-07</td>\n",
       "      <td>2</td>\n",
       "    </tr>\n",
       "    <tr>\n",
       "      <th>3</th>\n",
       "      <td>train0003</td>\n",
       "      <td>data/images/train0003.jpg</td>\n",
       "      <td>673</td>\n",
       "      <td>237</td>\n",
       "      <td>0</td>\n",
       "      <td>2017-08-07</td>\n",
       "      <td>3</td>\n",
       "    </tr>\n",
       "    <tr>\n",
       "      <th>4</th>\n",
       "      <td>train0004</td>\n",
       "      <td>data/images/train0004.jpg</td>\n",
       "      <td>461</td>\n",
       "      <td>166</td>\n",
       "      <td>0</td>\n",
       "      <td>2018-08-10</td>\n",
       "      <td>4</td>\n",
       "    </tr>\n",
       "  </tbody>\n",
       "</table>\n",
       "</div>"
      ],
      "text/plain": [
       "    image_id                       path  height  width  viewpoint        date  \\\n",
       "0  train0000  data/images/train0000.jpg     463    150          0  2017-08-07   \n",
       "1  train0001  data/images/train0001.jpg     192     81          0  2019-08-05   \n",
       "2  train0002  data/images/train0002.jpg     625    183          0  2017-08-07   \n",
       "3  train0003  data/images/train0003.jpg     673    237          0  2017-08-07   \n",
       "4  train0004  data/images/train0004.jpg     461    166          0  2018-08-10   \n",
       "\n",
       "   whale_id  \n",
       "0         0  \n",
       "1         1  \n",
       "2         2  \n",
       "3         3  \n",
       "4         4  "
      ]
     },
     "execution_count": 2,
     "metadata": {},
     "output_type": "execute_result"
    }
   ],
   "source": [
    "config = get_config()\n",
    "# load and parse the dataframe and get the label encoder as well\n",
    "train_df, label_encoder = load_csv_and_parse_dataframe(config['csv_name'], root_dir=config['root_dir'], drop_columns=['timestamp', 'encounter_id'])\n",
    "# get the average height and width of the dataset (rotate if viewpoint -1 or 1 (left / right))\n",
    "config['dataset']['height'], config['dataset']['width'] = get_avg_height_width(train_df)\n",
    "# get the mean and std of the dataset\n",
    "config['dataset']['mean'], config['dataset']['std'] = get_mean_and_std_of_dataset(train_df)\n",
    "# create the dataset objects\n",
    "train_data = WhaleDoDataset(train_df, config, mode='train')\n",
    "train_loader = DataLoader(train_data, 8, shuffle=True)\n",
    "\n",
    "train_df = train_df.reset_index()\n",
    "train_df.head()"
   ]
  },
  {
   "cell_type": "markdown",
   "id": "7083ff36",
   "metadata": {},
   "source": [
    "## Get three samples from train_df\n",
    "In this part a row from train_df is randomly sampled (the anchor). If there are more whale_id's of this sample in train_df, the program will select randomly another row with the same whale_id (the positive). After that it will select a row which does not have this whale_id (the negative)."
   ]
  },
  {
   "cell_type": "code",
   "execution_count": 3,
   "id": "84dcfac6",
   "metadata": {},
   "outputs": [],
   "source": [
    "# # cell to get the samples from the train_df\n",
    "# matched = False\n",
    "\n",
    "# while matched == False:\n",
    "#     random_sample = train_df.sample()\n",
    "#     index = random_sample.index[0]\n",
    "#     random_sample_id = int(random_sample['whale_id'])\n",
    "#     random_sample_image_id = random_sample['image_id'].tolist()[0]\n",
    "    \n",
    "#     positive_df = train_df.loc[train_df['whale_id']== random_sample_id]\n",
    "#     positive_df = positive_df[positive_df.image_id != random_sample_image_id]\n",
    "#     row_count = len(positive_df.head())\n",
    "\n",
    "    \n",
    "#     if row_count > 1:\n",
    "#         positive = positive_df.sample()\n",
    "#         index_positive = positive.index[0]\n",
    "#         negative =  train_df.loc[train_df['whale_id'] != random_sample_id].sample()\n",
    "#         index_neg = negative.index[0]\n",
    "#         matched = True"
   ]
  },
  {
   "cell_type": "code",
   "execution_count": 4,
   "id": "4ddb232a",
   "metadata": {},
   "outputs": [],
   "source": [
    "# random_sample.head()"
   ]
  },
  {
   "cell_type": "code",
   "execution_count": 5,
   "id": "44bb27fe",
   "metadata": {},
   "outputs": [],
   "source": [
    "# positive.head()"
   ]
  },
  {
   "cell_type": "code",
   "execution_count": 6,
   "id": "c8b807ba",
   "metadata": {},
   "outputs": [],
   "source": [
    "# negative.head()"
   ]
  },
  {
   "cell_type": "code",
   "execution_count": 7,
   "id": "50211aa5",
   "metadata": {},
   "outputs": [],
   "source": [
    "# print('indexes are: ', index, index_positive, index_neg)"
   ]
  },
  {
   "cell_type": "markdown",
   "id": "19bafda5",
   "metadata": {},
   "source": [
    "## Use __getitem__ and make a model"
   ]
  },
  {
   "cell_type": "code",
   "execution_count": 8,
   "id": "7c5e82ae",
   "metadata": {},
   "outputs": [],
   "source": [
    "# get the three items\n",
    "# anchor_item = train_data.__getitem__(index)\n",
    "# positive_item = train_data.__getitem__(index_positive)\n",
    "# negative_item = train_data.__getitem__(index_neg)"
   ]
  },
  {
   "cell_type": "code",
   "execution_count": 9,
   "id": "d2b3718f",
   "metadata": {},
   "outputs": [],
   "source": [
    "# print(anchor_item)\n",
    "# print(positive_item)\n",
    "# print(negative_item)"
   ]
  },
  {
   "cell_type": "code",
   "execution_count": 10,
   "id": "8fac8ce9",
   "metadata": {},
   "outputs": [
    {
     "name": "stderr",
     "output_type": "stream",
     "text": [
      "/srv/conda/envs/condaenv/lib/python3.9/site-packages/torch/nn/modules/lazy.py:175: UserWarning: Lazy modules are a new feature under heavy development so changes to the API or functionality can happen at any moment.\n",
      "  warnings.warn('Lazy modules are a new feature under heavy development '\n"
     ]
    }
   ],
   "source": [
    "# from old code\n",
    "# init loss function and a miner. The miner samples for training samples\n",
    "# init model and optimizer\n",
    "config['device'] = 'cpu'\n",
    "model = WhaleDoModel(config).to(config['device']).eval()\n",
    "model.projector = None\n"
   ]
  },
  {
   "cell_type": "markdown",
   "id": "924caf3f",
   "metadata": {},
   "source": [
    "## Make x_batch and y_batch"
   ]
  },
  {
   "cell_type": "code",
   "execution_count": 11,
   "id": "2ad904da",
   "metadata": {},
   "outputs": [],
   "source": [
    "# # make the three items into tensors and concatenate them into x_batch and y_batch\n",
    "# anchor_x, anchor_y = anchor_item['image'], anchor_item['label']\n",
    "# positive_x, positive_y = positive_item['image'], positive_item['label']\n",
    "# negative_x, negative_y = negative_item['image'], negative_item['label']\n",
    "\n",
    "# # torch.cat is to concatenate along existing dimensions\n",
    "# # x_batch = torch.cat((anchor_x,positive_x,negative_x),1).to(config['device'])\n",
    "# # stack is to create a new dimension (batches) for the batches. You could also manually create a singleton dimension\n",
    "# # in the first position and then use torch.cat(..., 0)\n",
    "# x_batch = torch.stack((anchor_x,positive_x,negative_x),0).to(config['device'])\n",
    "# y_batch = torch.tensor((anchor_y,positive_y,negative_y)).to(config['device'])\n",
    "\n",
    "# print(x_batch.shape)\n",
    "# print(y_batch.shape)"
   ]
  },
  {
   "cell_type": "markdown",
   "id": "fb818104",
   "metadata": {},
   "source": [
    "## Get the Embeddings "
   ]
  },
  {
   "cell_type": "code",
   "execution_count": 12,
   "id": "923684c5",
   "metadata": {},
   "outputs": [
    {
     "name": "stderr",
     "output_type": "stream",
     "text": [
      "  0%|▏                                                                                  | 2/738 [00:07<47:44,  3.89s/it]\n"
     ]
    }
   ],
   "source": [
    "#set the gradients to zero\n",
    "#compute embeddings\n",
    "embeddings_batch = []\n",
    "classes_batch = []\n",
    "\n",
    "for i, batch in enumerate(tqdm(train_loader, total=len(train_loader))):\n",
    "    x_batch, y_batch = batch['image'].to(config['device']), batch['label'].to(config['device'])\n",
    "    \n",
    "    embeddings_batch.append(model(x_batch))\n",
    "    classes_batch.append(y_batch)\n",
    "    \n",
    "    if i == 2:\n",
    "        break\n",
    "\n",
    "embeddings = torch.cat(embeddings_batch, dim=0)\n",
    "classes = torch.cat(classes_batch, dim=0)"
   ]
  },
  {
   "cell_type": "markdown",
   "id": "37638567",
   "metadata": {},
   "source": [
    "# Plot TSNE plots in 2D and 3D"
   ]
  },
  {
   "cell_type": "code",
   "execution_count": 13,
   "id": "8d4cc4c5",
   "metadata": {},
   "outputs": [
    {
     "name": "stderr",
     "output_type": "stream",
     "text": [
      "/srv/conda/envs/condaenv/lib/python3.9/site-packages/sklearn/manifold/_t_sne.py:691: FutureWarning: 'square_distances' has been introduced in 0.24 to help phase out legacy squaring behavior. The 'legacy' setting will be removed in 1.1 (renaming of 0.26), and the default setting will be changed to True. In 1.3, 'square_distances' will be removed altogether, and distances will be squared by default. Set 'square_distances'=True to silence this warning.\n",
      "  warnings.warn(\n"
     ]
    },
    {
     "data": {
      "text/html": [
       "<div>\n",
       "<style scoped>\n",
       "    .dataframe tbody tr th:only-of-type {\n",
       "        vertical-align: middle;\n",
       "    }\n",
       "\n",
       "    .dataframe tbody tr th {\n",
       "        vertical-align: top;\n",
       "    }\n",
       "\n",
       "    .dataframe thead th {\n",
       "        text-align: right;\n",
       "    }\n",
       "</style>\n",
       "<table border=\"1\" class=\"dataframe\">\n",
       "  <thead>\n",
       "    <tr style=\"text-align: right;\">\n",
       "      <th></th>\n",
       "      <th>classes</th>\n",
       "      <th>x</th>\n",
       "      <th>y</th>\n",
       "    </tr>\n",
       "  </thead>\n",
       "  <tbody>\n",
       "    <tr>\n",
       "      <th>0</th>\n",
       "      <td>7</td>\n",
       "      <td>-20.378456</td>\n",
       "      <td>56.508179</td>\n",
       "    </tr>\n",
       "    <tr>\n",
       "      <th>1</th>\n",
       "      <td>430</td>\n",
       "      <td>79.288132</td>\n",
       "      <td>55.085800</td>\n",
       "    </tr>\n",
       "    <tr>\n",
       "      <th>2</th>\n",
       "      <td>36</td>\n",
       "      <td>24.843275</td>\n",
       "      <td>-105.786751</td>\n",
       "    </tr>\n",
       "    <tr>\n",
       "      <th>3</th>\n",
       "      <td>498</td>\n",
       "      <td>68.428604</td>\n",
       "      <td>-105.014183</td>\n",
       "    </tr>\n",
       "    <tr>\n",
       "      <th>4</th>\n",
       "      <td>339</td>\n",
       "      <td>63.920837</td>\n",
       "      <td>-65.888359</td>\n",
       "    </tr>\n",
       "  </tbody>\n",
       "</table>\n",
       "</div>"
      ],
      "text/plain": [
       "   classes          x           y\n",
       "0        7 -20.378456   56.508179\n",
       "1      430  79.288132   55.085800\n",
       "2       36  24.843275 -105.786751\n",
       "3      498  68.428604 -105.014183\n",
       "4      339  63.920837  -65.888359"
      ]
     },
     "execution_count": 13,
     "metadata": {},
     "output_type": "execute_result"
    }
   ],
   "source": [
    "from sklearn.manifold import TSNE\n",
    "import matplotlib.pyplot as plt\n",
    "\n",
    "embeddings_array = embeddings.cpu().detach().numpy() # otherwise it doesn't work\n",
    "\n",
    "tsne = TSNE(random_state = 0, n_iter = 1000, metric = 'cosine')\n",
    "embeddings2d = tsne.fit_transform(embeddings_array)\n",
    "\n",
    "# Create DF\n",
    "embeddingsdf = pd.DataFrame()\n",
    "\n",
    "# Add game names\n",
    "embeddingsdf['classes'] = list(classes.cpu().detach().numpy())\n",
    "\n",
    "# Add x coordinate\n",
    "embeddingsdf['x'] = embeddings2d[:,0]\n",
    "# Add y coordinate\n",
    "embeddingsdf['y'] = embeddings2d[:,1]\n",
    "# Check\n",
    "embeddingsdf.head()"
   ]
  },
  {
   "cell_type": "code",
   "execution_count": 14,
   "id": "90e3ae7d",
   "metadata": {},
   "outputs": [
    {
     "data": {
      "text/plain": [
       "(24, 3)"
      ]
     },
     "execution_count": 14,
     "metadata": {},
     "output_type": "execute_result"
    }
   ],
   "source": [
    "embeddingsdf.shape"
   ]
  },
  {
   "cell_type": "code",
   "execution_count": 15,
   "id": "3032f8a8",
   "metadata": {},
   "outputs": [
    {
     "data": {
      "image/png": "[encoded data removed]",
      "text/plain": [
       "<Figure size 432x288 with 1 Axes>"
      ]
     },
     "metadata": {
      "needs_background": "light"
     },
     "output_type": "display_data"
    }
   ],
   "source": [
    "# Set figsize\n",
    "# Scatter points, set alpha low to make points translucent\n",
    "anchor = plt.scatter(embeddingsdf.x, embeddingsdf.y, c=embeddingsdf.classes, s=100)\n",
    "plt.title('TSNE scatter plot')\n",
    "plt.show()"
   ]
  },
  {
   "cell_type": "markdown",
   "id": "d48d6f0a",
   "metadata": {},
   "source": [
    "## Please extend for 3d as well"
   ]
  },
  {
   "cell_type": "code",
   "execution_count": 18,
   "id": "472a0e8c",
   "metadata": {},
   "outputs": [
    {
     "data": {
      "image/png": "[encoded data removed]",
      "text/plain": [
       "<Figure size 432x288 with 1 Axes>"
      ]
     },
     "metadata": {
      "needs_background": "light"
     },
     "output_type": "display_data"
    }
   ],
   "source": [
    "embeddings3d = TSNE(n_components=3, random_state=0).fit_transform(embeddings_array)\n",
    "# Create DF\n",
    "embeddingsdf_3d = pd.DataFrame()\n",
    "\n",
    "# Add game names\n",
    "embeddingsdf_3d['classes'] = list(classes.cpu().detach().numpy())\n",
    "\n",
    "# Add x coordinate\n",
    "embeddingsdf_3d['x'] = embeddings3d[:,0]\n",
    "# Add y coordinate\n",
    "embeddingsdf_3d['y'] = embeddings3d[:,1]\n",
    "# Add z coordinate\n",
    "embeddingsdf_3d['z'] = embeddings3d[:,2]\n",
    "# Check\n",
    "embeddingsdf_3d.head()\n",
    "embeddingsdf.shape\n",
    "\n",
    "fig = plt.figure()\n",
    "ax = fig.add_subplot(projection='3d')\n",
    "ax.scatter(embeddingsdf_3d.x, embeddingsdf_3d.y,embeddingsdf_3d.z, c= embeddingsdf.classes, s= 100)\n",
    "plt.title('TSNE scatter plot 3D')\n",
    "plt.show()"
   ]
  },
  {
   "cell_type": "code",
   "execution_count": null,
   "id": "a253cb45",
   "metadata": {},
   "outputs": [],
   "source": []
  }
 ],
 "metadata": {
  "kernelspec": {
   "display_name": "Python 3 (ipykernel)",
   "language": "python",
   "name": "python3"
  },
  "language_info": {
   "codemirror_mode": {
    "name": "ipython",
    "version": 3
   },
   "file_extension": ".py",
   "mimetype": "text/x-python",
   "name": "python",
   "nbconvert_exporter": "python",
   "pygments_lexer": "ipython3",
   "version": "3.9.7"
  }
 },
 "nbformat": 4,
 "nbformat_minor": 5
}
