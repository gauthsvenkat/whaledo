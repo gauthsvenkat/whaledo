{
 "cells": [
  {
   "cell_type": "code",
   "execution_count": 83,
   "id": "f647a115",
   "metadata": {},
   "outputs": [],
   "source": [
    "import numpy as np\n",
    "import pandas as pd\n",
    "import cv2\n",
    "import torch\n",
    "from sklearn import preprocessing"
   ]
  },
  {
   "cell_type": "code",
   "execution_count": 82,
   "id": "7861a875",
   "metadata": {},
   "outputs": [
    {
     "data": {
      "text/html": [
       "<div>\n",
       "<style scoped>\n",
       "    .dataframe tbody tr th:only-of-type {\n",
       "        vertical-align: middle;\n",
       "    }\n",
       "\n",
       "    .dataframe tbody tr th {\n",
       "        vertical-align: top;\n",
       "    }\n",
       "\n",
       "    .dataframe thead th {\n",
       "        text-align: right;\n",
       "    }\n",
       "</style>\n",
       "<table border=\"1\" class=\"dataframe\">\n",
       "  <thead>\n",
       "    <tr style=\"text-align: right;\">\n",
       "      <th></th>\n",
       "      <th>image_id</th>\n",
       "      <th>path</th>\n",
       "      <th>height</th>\n",
       "      <th>width</th>\n",
       "      <th>viewpoint</th>\n",
       "      <th>date</th>\n",
       "      <th>timestamp</th>\n",
       "      <th>whale_id</th>\n",
       "      <th>encounter_id</th>\n",
       "    </tr>\n",
       "  </thead>\n",
       "  <tbody>\n",
       "    <tr>\n",
       "      <th>0</th>\n",
       "      <td>train0000</td>\n",
       "      <td>images/train0000.jpg</td>\n",
       "      <td>463</td>\n",
       "      <td>150</td>\n",
       "      <td>top</td>\n",
       "      <td>2017-08-07</td>\n",
       "      <td>2017-08-07 20:38:36</td>\n",
       "      <td>whale000</td>\n",
       "      <td>whale000-000</td>\n",
       "    </tr>\n",
       "    <tr>\n",
       "      <th>1</th>\n",
       "      <td>train0001</td>\n",
       "      <td>images/train0001.jpg</td>\n",
       "      <td>192</td>\n",
       "      <td>81</td>\n",
       "      <td>top</td>\n",
       "      <td>2019-08-05</td>\n",
       "      <td>2019-08-05 16:49:13</td>\n",
       "      <td>whale001</td>\n",
       "      <td>whale001-000</td>\n",
       "    </tr>\n",
       "    <tr>\n",
       "      <th>2</th>\n",
       "      <td>train0002</td>\n",
       "      <td>images/train0002.jpg</td>\n",
       "      <td>625</td>\n",
       "      <td>183</td>\n",
       "      <td>top</td>\n",
       "      <td>2017-08-07</td>\n",
       "      <td>2017-08-07 22:12:19</td>\n",
       "      <td>whale002</td>\n",
       "      <td>whale002-000</td>\n",
       "    </tr>\n",
       "    <tr>\n",
       "      <th>3</th>\n",
       "      <td>train0003</td>\n",
       "      <td>images/train0003.jpg</td>\n",
       "      <td>673</td>\n",
       "      <td>237</td>\n",
       "      <td>top</td>\n",
       "      <td>2017-08-07</td>\n",
       "      <td>2017-08-07 20:40:59</td>\n",
       "      <td>whale003</td>\n",
       "      <td>whale003-000</td>\n",
       "    </tr>\n",
       "    <tr>\n",
       "      <th>4</th>\n",
       "      <td>train0004</td>\n",
       "      <td>images/train0004.jpg</td>\n",
       "      <td>461</td>\n",
       "      <td>166</td>\n",
       "      <td>top</td>\n",
       "      <td>2018-08-10</td>\n",
       "      <td>2018-08-10 21:45:30</td>\n",
       "      <td>whale004</td>\n",
       "      <td>whale004-000</td>\n",
       "    </tr>\n",
       "  </tbody>\n",
       "</table>\n",
       "</div>"
      ],
      "text/plain": [
       "    image_id                  path  height  width viewpoint        date  \\\n",
       "0  train0000  images/train0000.jpg     463    150       top  2017-08-07   \n",
       "1  train0001  images/train0001.jpg     192     81       top  2019-08-05   \n",
       "2  train0002  images/train0002.jpg     625    183       top  2017-08-07   \n",
       "3  train0003  images/train0003.jpg     673    237       top  2017-08-07   \n",
       "4  train0004  images/train0004.jpg     461    166       top  2018-08-10   \n",
       "\n",
       "             timestamp  whale_id  encounter_id  \n",
       "0  2017-08-07 20:38:36  whale000  whale000-000  \n",
       "1  2019-08-05 16:49:13  whale001  whale001-000  \n",
       "2  2017-08-07 22:12:19  whale002  whale002-000  \n",
       "3  2017-08-07 20:40:59  whale003  whale003-000  \n",
       "4  2018-08-10 21:45:30  whale004  whale004-000  "
      ]
     },
     "execution_count": 82,
     "metadata": {},
     "output_type": "execute_result"
    }
   ],
   "source": [
    "df = pd.read_csv('data/metadata.csv')\n",
    "df.head()"
   ]
  },
  {
   "cell_type": "code",
   "execution_count": 81,
   "id": "524ad062",
   "metadata": {},
   "outputs": [
    {
     "data": {
      "text/plain": [
       "count             5902\n",
       "unique            1617\n",
       "top       whale015-000\n",
       "freq                59\n",
       "Name: encounter_id, dtype: object"
      ]
     },
     "execution_count": 81,
     "metadata": {},
     "output_type": "execute_result"
    }
   ],
   "source": [
    "df['whal'].describe()"
   ]
  },
  {
   "cell_type": "code",
   "execution_count": 20,
   "id": "e423fccd",
   "metadata": {},
   "outputs": [
    {
     "data": {
      "text/plain": [
       "count    5902.000000\n",
       "mean      443.657743\n",
       "std       152.373968\n",
       "min        70.000000\n",
       "25%       339.000000\n",
       "50%       432.000000\n",
       "75%       535.000000\n",
       "max      1796.000000\n",
       "Name: height, dtype: float64"
      ]
     },
     "execution_count": 20,
     "metadata": {},
     "output_type": "execute_result"
    }
   ],
   "source": [
    "df['height'].describe()"
   ]
  },
  {
   "cell_type": "code",
   "execution_count": 19,
   "id": "beac270b",
   "metadata": {},
   "outputs": [
    {
     "data": {
      "text/plain": [
       "count    5902.000000\n",
       "mean      291.271433\n",
       "std       528.631940\n",
       "min        34.000000\n",
       "25%       123.000000\n",
       "50%       157.000000\n",
       "75%       198.000000\n",
       "max      6561.000000\n",
       "Name: width, dtype: float64"
      ]
     },
     "execution_count": 19,
     "metadata": {},
     "output_type": "execute_result"
    }
   ],
   "source": [
    "df['width'].describe()"
   ]
  },
  {
   "cell_type": "code",
   "execution_count": 21,
   "id": "8f12589e",
   "metadata": {},
   "outputs": [
    {
     "data": {
      "text/plain": [
       "count     5902\n",
       "unique       3\n",
       "top        top\n",
       "freq      5434\n",
       "Name: viewpoint, dtype: object"
      ]
     },
     "execution_count": 21,
     "metadata": {},
     "output_type": "execute_result"
    }
   ],
   "source": [
    "df['viewpoint'].describe()"
   ]
  },
  {
   "cell_type": "code",
   "execution_count": 43,
   "id": "a717c5da",
   "metadata": {},
   "outputs": [],
   "source": [
    "def mean_of_image(path = None):\n",
    "    img = cv2.imread(path)\n",
    "    return img.mean(axis=(0,1))\n",
    "\n",
    "def std_of_image(path = None):\n",
    "    img = cv2.imread(path)\n",
    "    return img.std(axis=(0,1))"
   ]
  },
  {
   "cell_type": "code",
   "execution_count": 53,
   "id": "cc92a26b",
   "metadata": {},
   "outputs": [],
   "source": [
    "means = np.array(list(map(mean_of_image, ['data/' + p for p in df['path']])))"
   ]
  },
  {
   "cell_type": "code",
   "execution_count": 58,
   "id": "7de8cd03",
   "metadata": {},
   "outputs": [],
   "source": [
    "stds = np.array(list(map(std_of_image, ['data/' + p for p in df['path']])))"
   ]
  },
  {
   "cell_type": "code",
   "execution_count": 59,
   "id": "c19c39de",
   "metadata": {},
   "outputs": [],
   "source": [
    "mean = means.mean(axis=0)\n",
    "std = stds.mean(axis=0)"
   ]
  },
  {
   "cell_type": "code",
   "execution_count": 62,
   "id": "e23504a4",
   "metadata": {},
   "outputs": [
    {
     "name": "stdout",
     "output_type": "stream",
     "text": [
      "Mean of the dataset = [118.3311038  108.94562059 107.9743398 ]\n",
      "Stddev of the dataset = [48.07930915 44.44048544 44.72591547]\n"
     ]
    }
   ],
   "source": [
    "print('Mean of the dataset = {}\\nStddev of the dataset = {}'.format(mean, std))"
   ]
  },
  {
   "cell_type": "code",
   "execution_count": 86,
   "id": "b7802092",
   "metadata": {},
   "outputs": [],
   "source": [
    "labels = df['whale_id'].tolist()"
   ]
  },
  {
   "cell_type": "code",
   "execution_count": 91,
   "id": "e6d45171",
   "metadata": {},
   "outputs": [
    {
     "name": "stdout",
     "output_type": "stream",
     "text": [
      "LabelEncoder()\n"
     ]
    }
   ],
   "source": [
    "le = preprocessing.LabelEncoder()\n",
    "targets = le.fit_transform(labels)\n"
   ]
  },
  {
   "cell_type": "code",
   "execution_count": 71,
   "id": "3e21c2a3",
   "metadata": {},
   "outputs": [
    {
     "name": "stdout",
     "output_type": "stream",
     "text": [
      "The autoreload extension is already loaded. To reload it, use:\n",
      "  %reload_ext autoreload\n"
     ]
    }
   ],
   "source": [
    "%load_ext autoreload\n",
    "%autoreload 2\n",
    "\n",
    "import torchvision.models as models\n",
    "from torchsummary import summary\n",
    "import torch.nn as nn\n",
    "from models import WhaleDoModel\n",
    "import torch"
   ]
  },
  {
   "cell_type": "code",
   "execution_count": 62,
   "id": "73f3d5cb",
   "metadata": {},
   "outputs": [],
   "source": [
    "config = {\n",
    "    'backbone_model': 'resnet18',\n",
    "    'input_dim': (5, 224, 224),\n",
    "    'rep_dim': 512,\n",
    "    'pretrained': True,\n",
    "    'device': 'cpu',\n",
    "\n",
    "    'projector' : {\n",
    "        'hidden_dim': 1024,\n",
    "        'output_dim': 2\n",
    "    }\n",
    "}\n",
    "\n",
    "model = WhaleDoModel(config)"
   ]
  },
  {
   "cell_type": "code",
   "execution_count": 63,
   "id": "bdaac094",
   "metadata": {},
   "outputs": [
    {
     "name": "stdout",
     "output_type": "stream",
     "text": [
      "----------------------------------------------------------------\n",
      "        Layer (type)               Output Shape         Param #\n",
      "================================================================\n",
      "            Conv2d-1         [-1, 64, 112, 112]          15,680\n",
      "       BatchNorm2d-2         [-1, 64, 112, 112]             128\n",
      "              ReLU-3         [-1, 64, 112, 112]               0\n",
      "         MaxPool2d-4           [-1, 64, 56, 56]               0\n",
      "            Conv2d-5           [-1, 64, 56, 56]          36,864\n",
      "       BatchNorm2d-6           [-1, 64, 56, 56]             128\n",
      "              ReLU-7           [-1, 64, 56, 56]               0\n",
      "            Conv2d-8           [-1, 64, 56, 56]          36,864\n",
      "       BatchNorm2d-9           [-1, 64, 56, 56]             128\n",
      "             ReLU-10           [-1, 64, 56, 56]               0\n",
      "       BasicBlock-11           [-1, 64, 56, 56]               0\n",
      "           Conv2d-12           [-1, 64, 56, 56]          36,864\n",
      "      BatchNorm2d-13           [-1, 64, 56, 56]             128\n",
      "             ReLU-14           [-1, 64, 56, 56]               0\n",
      "           Conv2d-15           [-1, 64, 56, 56]          36,864\n",
      "      BatchNorm2d-16           [-1, 64, 56, 56]             128\n",
      "             ReLU-17           [-1, 64, 56, 56]               0\n",
      "       BasicBlock-18           [-1, 64, 56, 56]               0\n",
      "           Conv2d-19          [-1, 128, 28, 28]          73,728\n",
      "      BatchNorm2d-20          [-1, 128, 28, 28]             256\n",
      "             ReLU-21          [-1, 128, 28, 28]               0\n",
      "           Conv2d-22          [-1, 128, 28, 28]         147,456\n",
      "      BatchNorm2d-23          [-1, 128, 28, 28]             256\n",
      "           Conv2d-24          [-1, 128, 28, 28]           8,192\n",
      "      BatchNorm2d-25          [-1, 128, 28, 28]             256\n",
      "             ReLU-26          [-1, 128, 28, 28]               0\n",
      "       BasicBlock-27          [-1, 128, 28, 28]               0\n",
      "           Conv2d-28          [-1, 128, 28, 28]         147,456\n",
      "      BatchNorm2d-29          [-1, 128, 28, 28]             256\n",
      "             ReLU-30          [-1, 128, 28, 28]               0\n",
      "           Conv2d-31          [-1, 128, 28, 28]         147,456\n",
      "      BatchNorm2d-32          [-1, 128, 28, 28]             256\n",
      "             ReLU-33          [-1, 128, 28, 28]               0\n",
      "       BasicBlock-34          [-1, 128, 28, 28]               0\n",
      "           Conv2d-35          [-1, 256, 14, 14]         294,912\n",
      "      BatchNorm2d-36          [-1, 256, 14, 14]             512\n",
      "             ReLU-37          [-1, 256, 14, 14]               0\n",
      "           Conv2d-38          [-1, 256, 14, 14]         589,824\n",
      "      BatchNorm2d-39          [-1, 256, 14, 14]             512\n",
      "           Conv2d-40          [-1, 256, 14, 14]          32,768\n",
      "      BatchNorm2d-41          [-1, 256, 14, 14]             512\n",
      "             ReLU-42          [-1, 256, 14, 14]               0\n",
      "       BasicBlock-43          [-1, 256, 14, 14]               0\n",
      "           Conv2d-44          [-1, 256, 14, 14]         589,824\n",
      "      BatchNorm2d-45          [-1, 256, 14, 14]             512\n",
      "             ReLU-46          [-1, 256, 14, 14]               0\n",
      "           Conv2d-47          [-1, 256, 14, 14]         589,824\n",
      "      BatchNorm2d-48          [-1, 256, 14, 14]             512\n",
      "             ReLU-49          [-1, 256, 14, 14]               0\n",
      "       BasicBlock-50          [-1, 256, 14, 14]               0\n",
      "           Conv2d-51            [-1, 512, 7, 7]       1,179,648\n",
      "      BatchNorm2d-52            [-1, 512, 7, 7]           1,024\n",
      "             ReLU-53            [-1, 512, 7, 7]               0\n",
      "           Conv2d-54            [-1, 512, 7, 7]       2,359,296\n",
      "      BatchNorm2d-55            [-1, 512, 7, 7]           1,024\n",
      "           Conv2d-56            [-1, 512, 7, 7]         131,072\n",
      "      BatchNorm2d-57            [-1, 512, 7, 7]           1,024\n",
      "             ReLU-58            [-1, 512, 7, 7]               0\n",
      "       BasicBlock-59            [-1, 512, 7, 7]               0\n",
      "           Conv2d-60            [-1, 512, 7, 7]       2,359,296\n",
      "      BatchNorm2d-61            [-1, 512, 7, 7]           1,024\n",
      "             ReLU-62            [-1, 512, 7, 7]               0\n",
      "           Conv2d-63            [-1, 512, 7, 7]       2,359,296\n",
      "      BatchNorm2d-64            [-1, 512, 7, 7]           1,024\n",
      "             ReLU-65            [-1, 512, 7, 7]               0\n",
      "       BasicBlock-66            [-1, 512, 7, 7]               0\n",
      "AdaptiveAvgPool2d-67            [-1, 512, 1, 1]               0\n",
      "           Linear-68                  [-1, 512]         262,656\n",
      "           ResNet-69                  [-1, 512]               0\n",
      "         BackBone-70                  [-1, 512]               0\n",
      "           Linear-71                 [-1, 1024]         525,312\n",
      "      BatchNorm1d-72                 [-1, 1024]           2,048\n",
      "             ReLU-73                 [-1, 1024]               0\n",
      "           Linear-74                    [-1, 2]           2,050\n",
      "        Projector-75                    [-1, 2]               0\n",
      "================================================================\n",
      "Total params: 11,974,850\n",
      "Trainable params: 11,974,850\n",
      "Non-trainable params: 0\n",
      "----------------------------------------------------------------\n",
      "Input size (MB): 0.96\n",
      "Forward/backward pass size (MB): 62.82\n",
      "Params size (MB): 45.68\n",
      "Estimated Total Size (MB): 109.46\n",
      "----------------------------------------------------------------\n"
     ]
    }
   ],
   "source": [
    "summary(model, config['input_dim'])"
   ]
  },
  {
   "cell_type": "code",
   "execution_count": 74,
   "id": "4b243a95",
   "metadata": {},
   "outputs": [
    {
     "name": "stdout",
     "output_type": "stream",
     "text": [
      "backbone.model.conv1.weight True\n",
      "backbone.model.bn1.weight True\n",
      "backbone.model.bn1.bias True\n",
      "backbone.model.layer1.0.conv1.weight True\n",
      "backbone.model.layer1.0.bn1.weight True\n",
      "backbone.model.layer1.0.bn1.bias True\n",
      "backbone.model.layer1.0.conv2.weight True\n",
      "backbone.model.layer1.0.bn2.weight True\n",
      "backbone.model.layer1.0.bn2.bias True\n",
      "backbone.model.layer1.1.conv1.weight True\n",
      "backbone.model.layer1.1.bn1.weight True\n",
      "backbone.model.layer1.1.bn1.bias True\n",
      "backbone.model.layer1.1.conv2.weight True\n",
      "backbone.model.layer1.1.bn2.weight True\n",
      "backbone.model.layer1.1.bn2.bias True\n",
      "backbone.model.layer2.0.conv1.weight True\n",
      "backbone.model.layer2.0.bn1.weight True\n",
      "backbone.model.layer2.0.bn1.bias True\n",
      "backbone.model.layer2.0.conv2.weight True\n",
      "backbone.model.layer2.0.bn2.weight True\n",
      "backbone.model.layer2.0.bn2.bias True\n",
      "backbone.model.layer2.0.downsample.0.weight True\n",
      "backbone.model.layer2.0.downsample.1.weight True\n",
      "backbone.model.layer2.0.downsample.1.bias True\n",
      "backbone.model.layer2.1.conv1.weight True\n",
      "backbone.model.layer2.1.bn1.weight True\n",
      "backbone.model.layer2.1.bn1.bias True\n",
      "backbone.model.layer2.1.conv2.weight True\n",
      "backbone.model.layer2.1.bn2.weight True\n",
      "backbone.model.layer2.1.bn2.bias True\n",
      "backbone.model.layer3.0.conv1.weight True\n",
      "backbone.model.layer3.0.bn1.weight True\n",
      "backbone.model.layer3.0.bn1.bias True\n",
      "backbone.model.layer3.0.conv2.weight True\n",
      "backbone.model.layer3.0.bn2.weight True\n",
      "backbone.model.layer3.0.bn2.bias True\n",
      "backbone.model.layer3.0.downsample.0.weight True\n",
      "backbone.model.layer3.0.downsample.1.weight True\n",
      "backbone.model.layer3.0.downsample.1.bias True\n",
      "backbone.model.layer3.1.conv1.weight True\n",
      "backbone.model.layer3.1.bn1.weight True\n",
      "backbone.model.layer3.1.bn1.bias True\n",
      "backbone.model.layer3.1.conv2.weight True\n",
      "backbone.model.layer3.1.bn2.weight True\n",
      "backbone.model.layer3.1.bn2.bias True\n",
      "backbone.model.layer4.0.conv1.weight True\n",
      "backbone.model.layer4.0.bn1.weight True\n",
      "backbone.model.layer4.0.bn1.bias True\n",
      "backbone.model.layer4.0.conv2.weight True\n",
      "backbone.model.layer4.0.bn2.weight True\n",
      "backbone.model.layer4.0.bn2.bias True\n",
      "backbone.model.layer4.0.downsample.0.weight True\n",
      "backbone.model.layer4.0.downsample.1.weight True\n",
      "backbone.model.layer4.0.downsample.1.bias True\n",
      "backbone.model.layer4.1.conv1.weight True\n",
      "backbone.model.layer4.1.bn1.weight True\n",
      "backbone.model.layer4.1.bn1.bias True\n",
      "backbone.model.layer4.1.conv2.weight True\n",
      "backbone.model.layer4.1.bn2.weight True\n",
      "backbone.model.layer4.1.bn2.bias True\n",
      "backbone.model.fc.weight True\n",
      "backbone.model.fc.bias True\n",
      "projector.model.0.weight True\n",
      "projector.model.0.bias True\n",
      "projector.model.1.weight True\n",
      "projector.model.1.bias True\n",
      "projector.model.3.weight True\n",
      "projector.model.3.bias True\n"
     ]
    }
   ],
   "source": [
    "model.eval()\n",
    "for name, param in model.named_parameters():\n",
    "    print(name, param.requires_grad)"
   ]
  },
  {
   "cell_type": "code",
   "execution_count": null,
   "id": "57fa90ce",
   "metadata": {},
   "outputs": [],
   "source": []
  },
  {
   "cell_type": "code",
   "execution_count": 93,
   "id": "2c3ec3f4",
   "metadata": {},
   "outputs": [],
   "source": [
    "from dataloader import WhaleDoDataset\n",
    "from torch.utils.data import DataLoader"
   ]
  },
  {
   "cell_type": "code",
   "execution_count": 94,
   "id": "e49af990",
   "metadata": {},
   "outputs": [],
   "source": [
    "train = WhaleDoDataset('data/metadata.csv')"
   ]
  },
  {
   "cell_type": "code",
   "execution_count": 101,
   "id": "03d5bf59",
   "metadata": {},
   "outputs": [],
   "source": [
    "train_loader = DataLoader(train, batch_size=64, shuffle=True)"
   ]
  },
  {
   "cell_type": "code",
   "execution_count": 103,
   "id": "ceb30a45",
   "metadata": {},
   "outputs": [
    {
     "name": "stdout",
     "output_type": "stream",
     "text": [
      "torch.Size([64, 3, 443, 291])\n"
     ]
    }
   ],
   "source": [
    "for x_batch, y_batch in train_loader:\n",
    "    print(x_batch.shape)\n",
    "    break"
   ]
  },
  {
   "cell_type": "code",
   "execution_count": null,
   "id": "cb24e57e",
   "metadata": {},
   "outputs": [],
   "source": []
  }
 ],
 "metadata": {
  "kernelspec": {
   "display_name": "Python 3 (ipykernel)",
   "language": "python",
   "name": "python3"
  },
  "language_info": {
   "codemirror_mode": {
    "name": "ipython",
    "version": 3
   },
   "file_extension": ".py",
   "mimetype": "text/x-python",
   "name": "python",
   "nbconvert_exporter": "python",
   "pygments_lexer": "ipython3",
   "version": "3.10.0"
  }
 },
 "nbformat": 4,
 "nbformat_minor": 5
}
