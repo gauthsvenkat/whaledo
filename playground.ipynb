{
 "cells": [
  {
   "cell_type": "code",
   "execution_count": 1,
   "id": "f647a115",
   "metadata": {},
   "outputs": [
    {
     "name": "stderr",
     "output_type": "stream",
     "text": [
      "2022-05-19 16:01:09.726117: I tensorflow/core/util/util.cc:169] oneDNN custom operations are on. You may see slightly different numerical results due to floating-point round-off errors from different computation orders. To turn them off, set the environment variable `TF_ENABLE_ONEDNN_OPTS=0`.\n"
     ]
    }
   ],
   "source": [
    "import numpy as np\n",
    "import pandas as pd\n",
    "import cv2\n",
    "import torch\n",
    "from sklearn import preprocessing\n",
    "import torchvision.models as models\n",
    "from torchsummary import summary\n",
    "import torch.nn as nn\n",
    "from models import WhaleDoModel\n",
    "from sklearn.model_selection import StratifiedKFold, train_test_split\n",
    "from utils import *\n",
    "from torchvision import transforms\n",
    "import matplotlib.pyplot as plt\n",
    "import cv2\n",
    "import torch\n",
    "import imutils\n",
    "import tensorflow as tf\n",
    "from dataloader import WhaleDoDataset\n",
    "import pickle as pkl\n",
    "from pytorch_metric_learning import losses\n",
    "from torch.utils.data import DataLoader\n"
   ]
  },
  {
   "cell_type": "code",
   "execution_count": 4,
   "id": "ed710cb0",
   "metadata": {},
   "outputs": [
    {
     "name": "stderr",
     "output_type": "stream",
     "text": [
      "/home/ando/.pyenv/versions/3.10.0/envs/whaledoenv/lib/python3.10/site-packages/torch/nn/modules/lazy.py:178: UserWarning: Lazy modules are a new feature under heavy development so changes to the API or functionality can happen at any moment.\n",
      "  warnings.warn('Lazy modules are a new feature under heavy development '\n"
     ]
    }
   ],
   "source": [
    "config = {\n",
    "    'csv_path': 'data/metadata.csv',\n",
    "    'root_dir': 'data/',\n",
    "\n",
    "    'dataset' : {\n",
    "        'channels' : 4,\n",
    "        'height': None,\n",
    "        'width': None,\n",
    "        'mean': None,\n",
    "        'std': None,\n",
    "    },\n",
    "\n",
    "    'backbone' : {\n",
    "        'model': 'resnet18',\n",
    "        'rep_dim': 512,\n",
    "        'pretrained': True,\n",
    "    },\n",
    "\n",
    "    'projector' : {\n",
    "        'hidden_dim': 1024,\n",
    "        'output_dim': 2\n",
    "    },\n",
    "    'batch_size': 4,    \n",
    "    'device': 'cpu'\n",
    "}\n",
    "\n",
    "df, label_encoder = load_csv_and_parse_dataframe(config['csv_path'], root_dir=config['root_dir'])\n",
    "config['dataset']['height'], config['dataset']['width'] = get_avg_height_width(df)\n",
    "config['dataset']['mean'], config['dataset']['std'] = get_mean_and_std_of_dataset(df)\n",
    "\n",
    "train_df, test_df = train_test_split(df, test_size=0.2, random_state=42, shuffle=True)#, stratify=df['whale_id']) #can't stratify if least populated class has only one member\n",
    "train_df, test_df = train_df.reset_index(), test_df.reset_index()\n",
    "\n",
    "train_data, test_data = WhaleDoDataset(train_df, config, augmentations=True), WhaleDoDataset(test_df, config, augmentations=False)\n",
    "\n",
    "loss_func = losses.TripletMarginLoss()\n",
    "\n",
    "train_loader = DataLoader(train_data, config['batch_size'], shuffle=True)\n",
    "test_loader = DataLoader(test_data, config['batch_size'], shuffle=False)\n",
    "\n",
    "model = WhaleDoModel(config)\n",
    "optimizer = torch.optim.Adam(model.parameters(), lr=0.001)"
   ]
  },
  {
   "cell_type": "code",
   "execution_count": null,
   "id": "17151663",
   "metadata": {},
   "outputs": [],
   "source": []
  },
  {
   "cell_type": "code",
   "execution_count": 5,
   "id": "09f50507",
   "metadata": {},
   "outputs": [
    {
     "name": "stdout",
     "output_type": "stream",
     "text": [
      "0\n"
     ]
    }
   ],
   "source": [
    "for i, (x_batch, y_batch) in enumerate(train_loader):\n",
    "    optimizer.zero_grad()\n",
    "    embeddings = model(x_batch)\n",
    "    loss = loss_func(embeddings, y_batch)\n",
    "    loss.backward()\n",
    "    optimizer.step()\n",
    "\n",
    "    print(i)\n",
    "    break"
   ]
  },
  {
   "cell_type": "code",
   "execution_count": null,
   "id": "7965dcce",
   "metadata": {},
   "outputs": [],
   "source": [
    "visualize_augmentations(dataset, n_imgs=4)"
   ]
  },
  {
   "cell_type": "code",
   "execution_count": null,
   "id": "ba59b1ea",
   "metadata": {},
   "outputs": [],
   "source": [
    "img, label = dataset.__getitem__(4590)"
   ]
  },
  {
   "cell_type": "code",
   "execution_count": null,
   "id": "73f3d5cb",
   "metadata": {},
   "outputs": [],
   "source": [
    "img.shape"
   ]
  },
  {
   "cell_type": "code",
   "execution_count": null,
   "id": "ed695e8a",
   "metadata": {},
   "outputs": [],
   "source": []
  },
  {
   "cell_type": "code",
   "execution_count": null,
   "id": "4d654607",
   "metadata": {},
   "outputs": [],
   "source": []
  },
  {
   "cell_type": "code",
   "execution_count": null,
   "id": "6d1c50d9",
   "metadata": {},
   "outputs": [],
   "source": []
  },
  {
   "cell_type": "code",
   "execution_count": null,
   "id": "f1ce2751",
   "metadata": {},
   "outputs": [],
   "source": []
  },
  {
   "cell_type": "code",
   "execution_count": null,
   "id": "4913a2cf",
   "metadata": {},
   "outputs": [],
   "source": []
  },
  {
   "cell_type": "code",
   "execution_count": null,
   "id": "4d66c933",
   "metadata": {},
   "outputs": [],
   "source": [
    "\n"
   ]
  },
  {
   "cell_type": "code",
   "execution_count": null,
   "id": "e8702bde",
   "metadata": {},
   "outputs": [],
   "source": []
  },
  {
   "cell_type": "code",
   "execution_count": null,
   "id": "85e55fa3",
   "metadata": {},
   "outputs": [],
   "source": []
  },
  {
   "cell_type": "code",
   "execution_count": null,
   "id": "fd7d3ae9",
   "metadata": {},
   "outputs": [],
   "source": []
  }
 ],
 "metadata": {
  "kernelspec": {
   "display_name": "Python 3 (ipykernel)",
   "language": "python",
   "name": "python3"
  },
  "language_info": {
   "codemirror_mode": {
    "name": "ipython",
    "version": 3
   },
   "file_extension": ".py",
   "mimetype": "text/x-python",
   "name": "python",
   "nbconvert_exporter": "python",
   "pygments_lexer": "ipython3",
   "version": "3.10.0"
  }
 },
 "nbformat": 4,
 "nbformat_minor": 5
}
